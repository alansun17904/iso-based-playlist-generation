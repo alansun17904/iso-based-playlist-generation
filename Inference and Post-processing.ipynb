{
 "cells": [
  {
   "cell_type": "markdown",
   "metadata": {},
   "source": [
    "# Inference and Post-processing"
   ]
  },
  {
   "cell_type": "code",
   "execution_count": 155,
   "metadata": {},
   "outputs": [
    {
     "ename": "ModuleNotFoundError",
     "evalue": "No module named 'selenium'",
     "output_type": "error",
     "traceback": [
      "\u001b[0;31m---------------------------------------------------------------------------\u001b[0m",
      "\u001b[0;31mModuleNotFoundError\u001b[0m                       Traceback (most recent call last)",
      "\u001b[0;32m<ipython-input-155-470ce5e131b2>\u001b[0m in \u001b[0;36m<module>\u001b[0;34m\u001b[0m\n\u001b[1;32m      1\u001b[0m \u001b[0;32mimport\u001b[0m \u001b[0murllib\u001b[0m\u001b[0;34m.\u001b[0m\u001b[0mrequest\u001b[0m\u001b[0;34m\u001b[0m\u001b[0;34m\u001b[0m\u001b[0m\n\u001b[1;32m      2\u001b[0m \u001b[0;32mimport\u001b[0m \u001b[0mstring\u001b[0m\u001b[0;34m\u001b[0m\u001b[0;34m\u001b[0m\u001b[0m\n\u001b[0;32m----> 3\u001b[0;31m \u001b[0;32mimport\u001b[0m \u001b[0mselenium\u001b[0m\u001b[0;34m\u001b[0m\u001b[0;34m\u001b[0m\u001b[0m\n\u001b[0m\u001b[1;32m      4\u001b[0m \u001b[0;32mfrom\u001b[0m \u001b[0mbs4\u001b[0m \u001b[0;32mimport\u001b[0m \u001b[0mBeautifulSoup\u001b[0m\u001b[0;34m\u001b[0m\u001b[0;34m\u001b[0m\u001b[0m\n\u001b[1;32m      5\u001b[0m \u001b[0;32mfrom\u001b[0m \u001b[0mtransformers\u001b[0m \u001b[0;32mimport\u001b[0m \u001b[0mpipeline\u001b[0m\u001b[0;34m\u001b[0m\u001b[0;34m\u001b[0m\u001b[0m\n",
      "\u001b[0;31mModuleNotFoundError\u001b[0m: No module named 'selenium'"
     ]
    }
   ],
   "source": [
    "import urllib.request\n",
    "import string\n",
    "from bs4 import BeautifulSoup\n",
    "from transformers import pipeline"
   ]
  },
  {
   "cell_type": "code",
   "execution_count": 41,
   "metadata": {},
   "outputs": [
    {
     "data": {
      "text/plain": [
       "'abcdefghijklmnopqrstuvwxyz'"
      ]
     },
     "execution_count": 41,
     "metadata": {},
     "output_type": "execute_result"
    }
   ],
   "source": [
    "string.ascii_lowercase"
   ]
  },
  {
   "cell_type": "code",
   "execution_count": 2,
   "metadata": {
    "scrolled": true
   },
   "outputs": [
    {
     "data": {
      "application/vnd.jupyter.widget-view+json": {
       "model_id": "94b2b4b1286d40b4b09d8730b959ee8b",
       "version_major": 2,
       "version_minor": 0
      },
      "text/plain": [
       "Downloading:   0%|          | 0.00/442 [00:00<?, ?B/s]"
      ]
     },
     "metadata": {},
     "output_type": "display_data"
    },
    {
     "data": {
      "application/vnd.jupyter.widget-view+json": {
       "model_id": "8120ccaa8d7f4030b9304d8bcc8efd6d",
       "version_major": 2,
       "version_minor": 0
      },
      "text/plain": [
       "Downloading:   0%|          | 0.00/232k [00:00<?, ?B/s]"
      ]
     },
     "metadata": {},
     "output_type": "display_data"
    },
    {
     "data": {
      "application/vnd.jupyter.widget-view+json": {
       "model_id": "e1fa75630c7045b4b0d3e8fd60eeec5c",
       "version_major": 2,
       "version_minor": 0
      },
      "text/plain": [
       "Downloading:   0%|          | 0.00/629 [00:00<?, ?B/s]"
      ]
     },
     "metadata": {},
     "output_type": "display_data"
    },
    {
     "data": {
      "application/vnd.jupyter.widget-view+json": {
       "model_id": "957d579304e444139caf0fa40c9eaef2",
       "version_major": 2,
       "version_minor": 0
      },
      "text/plain": [
       "Downloading:   0%|          | 0.00/230 [00:00<?, ?B/s]"
      ]
     },
     "metadata": {},
     "output_type": "display_data"
    },
    {
     "data": {
      "application/vnd.jupyter.widget-view+json": {
       "model_id": "afd49a15539c42d5bea7c2d088886ee9",
       "version_major": 2,
       "version_minor": 0
      },
      "text/plain": [
       "Downloading:   0%|          | 0.00/268M [00:00<?, ?B/s]"
      ]
     },
     "metadata": {},
     "output_type": "display_data"
    }
   ],
   "source": [
    "sentiment = pipeline('sentiment-analysis')"
   ]
  },
  {
   "cell_type": "code",
   "execution_count": 80,
   "metadata": {},
   "outputs": [],
   "source": [
    "def preprocess_song(song_name):\n",
    "    allowed = string.ascii_lowercase + string.ascii_uppercase + ' '\n",
    "    bindex = song_name.find('(')\n",
    "    dindex = song_name.find('-')\n",
    "    # remove dashes and everything inside parantheses\n",
    "    if bindex != -1 or dindex != -1:\n",
    "        if -1 in (bindex, dindex):\n",
    "            song_name = song_name[0: max(bindex, dindex)]\n",
    "        else:\n",
    "            song_name = song_name[0: min(bindex, dindex)]\n",
    "    # replace & with and\n",
    "    song_name = song_name.replace('&', 'and')\n",
    "    # remove special characters including #, \"\", ''\n",
    "    name = list(song_name)\n",
    "    song_name = ''.join([v for v in name if v in allowed])\n",
    "    return song_name.strip()\n",
    "\n",
    "def preprocess_artist(artist_name):\n",
    "    name = list(artist_name)\n",
    "    allowed = string.ascii_lowercase + string.ascii_uppercase + ' '\n",
    "    artist_name = ''.join([v for v in name if v in allowed])\n",
    "    return artist_name.strip()\n"
   ]
  },
  {
   "cell_type": "code",
   "execution_count": 159,
   "metadata": {},
   "outputs": [],
   "source": [
    "def get_lyrics(artist_name, song_name):\n",
    "    artists = '-'.join(artist_name.strip().split(' '))\n",
    "    song = '-'.join(song_name.strip().split(' '))\n",
    "    url = f'https://genius.com/{artists}-{song}-lyrics'\n",
    "    r = requests.get(url, timeout=(20, 20))\n",
    "    if r.status_code != 200:\n",
    "        assert RuntimeError(f'Could not get the song requested: {artist}, {song}')\n",
    "    else:\n",
    "        soup = BeautifulSoup(r.text, 'html.parser')\n",
    "        lyrics = soup.find_all(attrs={'class': 'lyrics'})[0].text.strip()\n",
    "        return lyrics"
   ]
  },
  {
   "cell_type": "code",
   "execution_count": 169,
   "metadata": {
    "scrolled": true
   },
   "outputs": [],
   "source": [
    "l = get_lyrics(preprocess_artist('$NOT'), preprocess_song('Moon & Stars (feat. Maggie)'))"
   ]
  },
  {
   "cell_type": "code",
   "execution_count": 166,
   "metadata": {},
   "outputs": [],
   "source": [
    "artist = 'Ariana Grande'\n",
    "song = 'pov'\n",
    "l = get_lyrics(artist, song)"
   ]
  },
  {
   "cell_type": "code",
   "execution_count": 175,
   "metadata": {
    "scrolled": false
   },
   "outputs": [
    {
     "data": {
      "text/plain": [
       "\"[Intro: $NOT]\\n(Yung Castor)\\nAyy, bitch, I'll take you to the fuckin' (Ayy, uh)\\nI'll take you to the fuckin' moon and stars\\nYou feel me? (Yeah)\\nHahaha (Ayy, ayy)\\n\\n[Chorus: $NOT]\\nOkay, I hop up in my coupe, yeah (Wassup?)\\nWassup? Do you wanna go far with me? (With me)\\nHold my hand, I ain't really goin' far (Uh-uh)\\nBitch, I'll take you to the moon and the stars (And the stars)\\n'Kay, I hop up in my coupe, yeah (Wassup?)\\nWassup? Do you wanna go far with me? (With me)\\nHold my hand, I ain't really goin' far (Uh-uh)\\nBitch, I'll take you to the moon and the stars (And the stars)\\n\\n[Interlude: $NOT]\\nAyy, I ain't really wanna do it now, ayy\\nI see my name in the back (Yeah), ayy\\nI see my name in the back, yeah, ayy\\n\\n[Verse 1: $NOT]\\nI see my name in the back, now I'm in the fuckin' front (Haha)\\nTwo-door coupe foreign, no roof, with a blunt (Yeah)\\nJust me and my bitch and we 'bout to make a wish (Ayy)\\nAll-star, no rim, bitch, we go for the swish (Swish)\\nI can take you to the moon, you can see the fuckin' stars (Yeah)\\nYou the fix to my drugs, I ain't talkin' 'bout no love (Nah)\\nWhat the fuck, nigga? What's wrong with me?\\nEnd my life, I just don't wanna bleed\\n\\n[Chorus: $NOT]\\nOkay, I hop up in my coupe, yeah (Wassup?)\\nWassup? Do you wanna go far with me? (With me)\\nHold my hand, I ain't really goin' far (Uh-uh)\\nBitch, I'll take you to the moon and the stars (And the stars)\\n'Kay, I hop up in my coupe, yeah (Wassup?)\\nWassup? Do you wanna go far with me? (With me)\\nHold my hand, I ain't really goin' far (Uh-uh)\\nBitch, I'll take you to the moon and the stars (And the stars)\\n\\n[Verse 2: Maggie Lindemann]\\nAin't no place in this world I won't go\\nWe just turn the suitcase into a home\\nAnd I like when we take it too far\\nBut I'd, I'd rather be closer\\nPlay with me like a video game\\nSayin' you like when I'm taking control\\nIf my love can't be your fix, then\\nWhat are we up all night for?\\n\\n[Chorus: $NOT]\\nOkay, I hop up in my coupe, yeah (Wassup?)\\nWassup? Do you wanna go far with me? (With me)\\nHold my hand, I ain't really goin' far (Uh-uh)\\nBitch, I'll take you to the moon and the stars (And the stars)\\n'Kay, I hop up in my coupe, yeah (Wassup?)\\nWassup? Do you wanna go far with me? (With me)\\nHold my hand, I ain't really goin' far (Uh-uh)\\nBitch, I'll take you to the moon and the stars (And the stars)\""
      ]
     },
     "execution_count": 175,
     "metadata": {},
     "output_type": "execute_result"
    }
   ],
   "source": [
    "l"
   ]
  },
  {
   "cell_type": "code",
   "execution_count": 190,
   "metadata": {},
   "outputs": [
    {
     "data": {
      "text/plain": [
       "[{'label': 'POSITIVE', 'score': 0.95381665}]"
      ]
     },
     "execution_count": 190,
     "metadata": {},
     "output_type": "execute_result"
    }
   ],
   "source": [
    "sentiment('xiao bian')"
   ]
  },
  {
   "cell_type": "code",
   "execution_count": null,
   "metadata": {},
   "outputs": [],
   "source": []
  }
 ],
 "metadata": {
  "kernelspec": {
   "display_name": "Python 3",
   "language": "python",
   "name": "python3"
  },
  "language_info": {
   "codemirror_mode": {
    "name": "ipython",
    "version": 3
   },
   "file_extension": ".py",
   "mimetype": "text/x-python",
   "name": "python",
   "nbconvert_exporter": "python",
   "pygments_lexer": "ipython3",
   "version": "3.7.4"
  }
 },
 "nbformat": 4,
 "nbformat_minor": 2
}
