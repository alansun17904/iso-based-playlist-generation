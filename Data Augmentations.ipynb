{
 "cells": [
  {
   "cell_type": "markdown",
   "metadata": {},
   "source": [
    "# Data Augmentations & Synthetic Data Generation\n",
    "This notebook will explore some options for synthetic data generation as well as augmentations on existing data."
   ]
  },
  {
   "cell_type": "code",
   "execution_count": 204,
   "metadata": {},
   "outputs": [],
   "source": [
    "import os\n",
    "import json\n",
    "import torch\n",
    "import numpy as np\n",
    "import pandas as pd\n",
    "from pprint import pprint\n",
    "from sklearn import decomposition"
   ]
  },
  {
   "cell_type": "code",
   "execution_count": 206,
   "metadata": {},
   "outputs": [],
   "source": [
    "data = pd.read_csv('data/train.csv', index_col=0)\n",
    "data = data[data['features'] != '[null]']  # remove empty plists"
   ]
  },
  {
   "cell_type": "code",
   "execution_count": 207,
   "metadata": {},
   "outputs": [
    {
     "data": {
      "text/html": [
       "<div>\n",
       "<style scoped>\n",
       "    .dataframe tbody tr th:only-of-type {\n",
       "        vertical-align: middle;\n",
       "    }\n",
       "\n",
       "    .dataframe tbody tr th {\n",
       "        vertical-align: top;\n",
       "    }\n",
       "\n",
       "    .dataframe thead th {\n",
       "        text-align: right;\n",
       "    }\n",
       "</style>\n",
       "<table border=\"1\" class=\"dataframe\">\n",
       "  <thead>\n",
       "    <tr style=\"text-align: right;\">\n",
       "      <th></th>\n",
       "      <th>moods_states</th>\n",
       "      <th>features</th>\n",
       "    </tr>\n",
       "  </thead>\n",
       "  <tbody>\n",
       "    <tr>\n",
       "      <td>iso13</td>\n",
       "      <td>[[19], [4], [9]]</td>\n",
       "      <td>[[0.932, 0.433, 0.329, 0.0474, 3, 0.1, -13.288...</td>\n",
       "    </tr>\n",
       "    <tr>\n",
       "      <td>iso21</td>\n",
       "      <td>[[28], [11]]</td>\n",
       "      <td>[[0.942, 0.252, 0.314, 0.676, 5, 0.0892, -18.1...</td>\n",
       "    </tr>\n",
       "    <tr>\n",
       "      <td>iso09</td>\n",
       "      <td>[[22], [11]]</td>\n",
       "      <td>[[0.778, 0.407, 0.308, 1.46e-05, 10, 0.092, -9...</td>\n",
       "    </tr>\n",
       "    <tr>\n",
       "      <td>iso10</td>\n",
       "      <td>[[5], [21], [14]]</td>\n",
       "      <td>[[0.942, 0.252, 0.314, 0.676, 5, 0.0892, -18.1...</td>\n",
       "    </tr>\n",
       "    <tr>\n",
       "      <td>iso17</td>\n",
       "      <td>[[23], [4], [9]]</td>\n",
       "      <td>[[0.755, 0.479, 0.154, 0.0261, 2, 0.11, -15.05...</td>\n",
       "    </tr>\n",
       "    <tr>\n",
       "      <td>iso12</td>\n",
       "      <td>[[3], [2], [25]]</td>\n",
       "      <td>[[0.186, 0.548, 0.532, 0.000263, 5, 0.217, -7....</td>\n",
       "    </tr>\n",
       "    <tr>\n",
       "      <td>iso11</td>\n",
       "      <td>[[22], [25], [29]]</td>\n",
       "      <td>[[0.92, 0.587, 0.229, 0, 10, 0.1, -11.254, 0, ...</td>\n",
       "    </tr>\n",
       "    <tr>\n",
       "      <td>iso20</td>\n",
       "      <td>[[5], [16], [21]]</td>\n",
       "      <td>[[0.948, 0.571, 0.0274, 6.43e-06, 9, 0.322, -2...</td>\n",
       "    </tr>\n",
       "    <tr>\n",
       "      <td>iso19</td>\n",
       "      <td>[[17], [26], [0]]</td>\n",
       "      <td>[[0.985, 0.653, 0.178, 0.000339, 9, 0.134, -13...</td>\n",
       "    </tr>\n",
       "    <tr>\n",
       "      <td>iso08</td>\n",
       "      <td>[[19], [6]]</td>\n",
       "      <td>[[0.251, 0.513, 0.767, 0.278, 7, 0.221, -8.386...</td>\n",
       "    </tr>\n",
       "    <tr>\n",
       "      <td>iso04</td>\n",
       "      <td>[[6, 8, 17], [6, 21, 16]]</td>\n",
       "      <td>[[0.166, 0.282, 0.342, 0.365, 1, 0.673, -12.26...</td>\n",
       "    </tr>\n",
       "    <tr>\n",
       "      <td>iso14</td>\n",
       "      <td>[[9], [8], [21]]</td>\n",
       "      <td>[[0.262, 0.696, 0.686, 0, 5, 0.174, -6.113, 0,...</td>\n",
       "    </tr>\n",
       "    <tr>\n",
       "      <td>iso18</td>\n",
       "      <td>[[13], [16], [25]]</td>\n",
       "      <td>[[0.124, 0.585, 0.52, 7.01e-05, 5, 0.131, -6.1...</td>\n",
       "    </tr>\n",
       "    <tr>\n",
       "      <td>iso30</td>\n",
       "      <td>[[19, 1, 9], [6, 21, 25]]</td>\n",
       "      <td>[[0.907, 0.23, 0.159, 0.924, 5, 0.102, -16.315...</td>\n",
       "    </tr>\n",
       "    <tr>\n",
       "      <td>iso06</td>\n",
       "      <td>[[22], [12]]</td>\n",
       "      <td>[[0.301, 0.529, 0.381, 0.00111, 7, 0.119, -11....</td>\n",
       "    </tr>\n",
       "    <tr>\n",
       "      <td>iso05</td>\n",
       "      <td>[[15], [7]]</td>\n",
       "      <td>[[0.93, 0.628, 0.179, 0.000309, 1, 0.188, -16....</td>\n",
       "    </tr>\n",
       "    <tr>\n",
       "      <td>iso15</td>\n",
       "      <td>[[27], [14], [9]]</td>\n",
       "      <td>[[0.982, 0.532, 0.137, 0.962, 9, 0.112, -18.20...</td>\n",
       "    </tr>\n",
       "    <tr>\n",
       "      <td>iso23</td>\n",
       "      <td>[[28], [20]]</td>\n",
       "      <td>[[0.455, 0.674, 0.615, 0.00091, 0, 0.208, -8.1...</td>\n",
       "    </tr>\n",
       "    <tr>\n",
       "      <td>iso03</td>\n",
       "      <td>[[5], [6, 18]]</td>\n",
       "      <td>[[0.864, 0.0783, 0.206, 0.838, 2, 0.179, -20.6...</td>\n",
       "    </tr>\n",
       "    <tr>\n",
       "      <td>iso16</td>\n",
       "      <td>[[22], [4], [14]]</td>\n",
       "      <td>[[0.969, 0.388, 0.0859, 7.35e-05, 7, 0.108, -1...</td>\n",
       "    </tr>\n",
       "    <tr>\n",
       "      <td>iso07</td>\n",
       "      <td>[[24], [10]]</td>\n",
       "      <td>[[0.872, 0.455, 0.39, 1.83e-05, 11, 0.0958, -1...</td>\n",
       "    </tr>\n",
       "  </tbody>\n",
       "</table>\n",
       "</div>"
      ],
      "text/plain": [
       "                    moods_states  \\\n",
       "iso13           [[19], [4], [9]]   \n",
       "iso21               [[28], [11]]   \n",
       "iso09               [[22], [11]]   \n",
       "iso10          [[5], [21], [14]]   \n",
       "iso17           [[23], [4], [9]]   \n",
       "iso12           [[3], [2], [25]]   \n",
       "iso11         [[22], [25], [29]]   \n",
       "iso20          [[5], [16], [21]]   \n",
       "iso19          [[17], [26], [0]]   \n",
       "iso08                [[19], [6]]   \n",
       "iso04  [[6, 8, 17], [6, 21, 16]]   \n",
       "iso14           [[9], [8], [21]]   \n",
       "iso18         [[13], [16], [25]]   \n",
       "iso30  [[19, 1, 9], [6, 21, 25]]   \n",
       "iso06               [[22], [12]]   \n",
       "iso05                [[15], [7]]   \n",
       "iso15          [[27], [14], [9]]   \n",
       "iso23               [[28], [20]]   \n",
       "iso03             [[5], [6, 18]]   \n",
       "iso16          [[22], [4], [14]]   \n",
       "iso07               [[24], [10]]   \n",
       "\n",
       "                                                features  \n",
       "iso13  [[0.932, 0.433, 0.329, 0.0474, 3, 0.1, -13.288...  \n",
       "iso21  [[0.942, 0.252, 0.314, 0.676, 5, 0.0892, -18.1...  \n",
       "iso09  [[0.778, 0.407, 0.308, 1.46e-05, 10, 0.092, -9...  \n",
       "iso10  [[0.942, 0.252, 0.314, 0.676, 5, 0.0892, -18.1...  \n",
       "iso17  [[0.755, 0.479, 0.154, 0.0261, 2, 0.11, -15.05...  \n",
       "iso12  [[0.186, 0.548, 0.532, 0.000263, 5, 0.217, -7....  \n",
       "iso11  [[0.92, 0.587, 0.229, 0, 10, 0.1, -11.254, 0, ...  \n",
       "iso20  [[0.948, 0.571, 0.0274, 6.43e-06, 9, 0.322, -2...  \n",
       "iso19  [[0.985, 0.653, 0.178, 0.000339, 9, 0.134, -13...  \n",
       "iso08  [[0.251, 0.513, 0.767, 0.278, 7, 0.221, -8.386...  \n",
       "iso04  [[0.166, 0.282, 0.342, 0.365, 1, 0.673, -12.26...  \n",
       "iso14  [[0.262, 0.696, 0.686, 0, 5, 0.174, -6.113, 0,...  \n",
       "iso18  [[0.124, 0.585, 0.52, 7.01e-05, 5, 0.131, -6.1...  \n",
       "iso30  [[0.907, 0.23, 0.159, 0.924, 5, 0.102, -16.315...  \n",
       "iso06  [[0.301, 0.529, 0.381, 0.00111, 7, 0.119, -11....  \n",
       "iso05  [[0.93, 0.628, 0.179, 0.000309, 1, 0.188, -16....  \n",
       "iso15  [[0.982, 0.532, 0.137, 0.962, 9, 0.112, -18.20...  \n",
       "iso23  [[0.455, 0.674, 0.615, 0.00091, 0, 0.208, -8.1...  \n",
       "iso03  [[0.864, 0.0783, 0.206, 0.838, 2, 0.179, -20.6...  \n",
       "iso16  [[0.969, 0.388, 0.0859, 7.35e-05, 7, 0.108, -1...  \n",
       "iso07  [[0.872, 0.455, 0.39, 1.83e-05, 11, 0.0958, -1...  "
      ]
     },
     "execution_count": 207,
     "metadata": {},
     "output_type": "execute_result"
    }
   ],
   "source": [
    "data"
   ]
  },
  {
   "cell_type": "markdown",
   "metadata": {},
   "source": [
    "## Augmentations\n",
    "- **Dimensionality reduction through PCA.** This strategy isn't actually an augmentaion technique, but reducing the size of the model by reducing the dimensionality of the required output.\n",
    "\n",
    "- **Reversing mood states and song order.** This is fairly straightforward, we simply generate new playlists by inverting the order of the mood states and their respective songs. For example a playlist from sad to happy would be inverted from happy to sad. We note that although such playlists may have no intrinsic value during inference, it may help the model learn the relationship between the various embeddings and audio features.\n",
    "\n",
    "- **Random augmentation of audio features.**"
   ]
  },
  {
   "cell_type": "markdown",
   "metadata": {},
   "source": [
    "### Dimensionality Reduction with PCA\n",
    "We proceed with PCA on all of the audio features on each playlist, then we aggregate all of the components together through an average. We start by combining each playlist into a matrix and applying transposition such that each column represents an observation. Let $X$ be a $11\\times N$ matrix, where $N$ is the number of observations, and $11$ represents the number of audio features. We first compute the mean-deviation form $B$:\n",
    "\n",
    "\\begin{align}\n",
    "M &= \\frac{1}{N}\\begin{bmatrix}X_1 & \\ldots & X_N\\end{bmatrix}, \\\\\n",
    "B &= \\begin{bmatrix}\\hat{X_1} & \\ldots & \\hat{X_N}\\end{bmatrix}, \\qquad \\hat{X_i} = X_i - M.\n",
    "\\end{align}\n",
    "\n",
    "Then, the covariance matrix is given by $S =\\frac{1}{N-1}BB^T$. Here, the goal of PCA is to find an orthogonal matrix $P$, and a matrix $Y$ such that $B = PY$. Such that the rows of $Y$ are uncorrelated. The covariance matrix for $Y$ is given by:\n",
    "\n",
    "\\begin{align}\n",
    "Y &= P^TB, \\\\\n",
    "YY^T &= P^TB(P^TB)^T, \\\\\n",
    "\\frac{1}{N-1}YY^T &= P^TBB^TP\\frac{1}{N-1}, \\\\\n",
    "Y_{\\text{covar}} &= P^T\\Big(\\frac{1}{N-1}BB^T\\Big)P, \\\\\n",
    "Y_{\\text{covar}} &= P^TSP.\n",
    "\\end{align}\n",
    "\n",
    "Since $S$ is symmetrical it must be orthogonally diagonalizable. Let $D$ be a diagonal matrix with the entries on its main diagonals be the eigenvalues of $S$. Therefore $P$ corresponds to the unit eigenvectors $u_1,\\ldots,u_p$:\n",
    "$$S = PDP^T.$$\n",
    "\n",
    "Suppose that the entries on the main diagonal of $D$ are $\\lambda_1, \\ldots, \\lambda_p$. Then, we can reduce the dimensionality of $X$ by finding values which $\\frac{\\lambda_i}{\\text{tr}(D)}$ are the smallest."
   ]
  },
  {
   "cell_type": "code",
   "execution_count": 234,
   "metadata": {},
   "outputs": [],
   "source": [
    "# construct list a of matrices, where each matrix represents a playlist\n",
    "playlists = []\n",
    "for entry in range(len(data)):\n",
    "    playlist = json.loads(data.iloc[entry]['features'])\n",
    "    # stack `song vectors` together into a matrix\n",
    "    plist = []\n",
    "    for song in playlist:\n",
    "        plist.append(np.array(song))\n",
    "    playlists.append(np.stack(plist))\n"
   ]
  },
  {
   "cell_type": "code",
   "execution_count": 250,
   "metadata": {},
   "outputs": [
    {
     "name": "stdout",
     "output_type": "stream",
     "text": [
      "(234, 11)\n"
     ]
    }
   ],
   "source": [
    "all_playlists = np.vstack(playlists)\n",
    "print(all_playlists.shape)"
   ]
  },
  {
   "cell_type": "code",
   "execution_count": 253,
   "metadata": {},
   "outputs": [],
   "source": [
    "all_playlists = np.vstack(playlists)\n",
    "mdf = playlist - np.mean(playlist, axis=0)  # mean-deviation form\n",
    "covar = np.cov(mdf.T)  # covariance matrix\n",
    "eigval, eigvec = np.linalg.eig(covar)  # eigenvalue/eigenvectors of covar\n",
    "pcomp = np.real(eigval) / sum(np.real(eigval))\n",
    "print(pcomp)"
   ]
  },
  {
   "cell_type": "code",
   "execution_count": 258,
   "metadata": {},
   "outputs": [
    {
     "name": "stdout",
     "output_type": "stream",
     "text": [
      "mean: [0.361640 0.663500 0.555900 0.000077 5.700000 0.129330 -6.746100 0.600000\n",
      " 0.063500 122.359400 0.427800]\n",
      "%variance: [0.968516 0.025052 0.005954 0.000374 0.000076 0.000016 0.000008 0.000004\n",
      " 0.000000 -0.000000 0.000000]\n",
      "corresponding component eigenvectors:\n",
      "component 1: [-0.007128 -0.016943 -0.110670 0.124335 0.627286 -0.043151 -0.546551\n",
      " -0.084440 -0.128198 0.007786 -0.504302]\n",
      "component 2: [0.001854 0.011303 0.022219 0.038830 -0.504164 -0.341400 0.159444\n",
      " -0.282795 -0.355778 0.009416 -0.628613]\n",
      "component 3: [-0.001611 0.012157 0.073040 -0.065926 -0.154649 -0.750761 -0.354121\n",
      " 0.293144 0.432653 -0.000660 0.063927]\n"
     ]
    }
   ],
   "source": [
    "print(f'mean: {np.mean(playlist, axis=0)}')\n",
    "print(f'%variance: {pcomp}')\n",
    "print(f'corresponding component eigenvectors:')\n",
    "for index, eig in enumerate(eigvec[[0,1,2],:]):\n",
    "    print(f'component {index+1}: {eig}')"
   ]
  },
  {
   "cell_type": "markdown",
   "metadata": {},
   "source": [
    "We note that the first three components make up over 99% of the variance of our covariance matrix. Therefore, we can reduce $P$ from $B=PY$ to a $p\\times 3$ matrix. This will make prediction much easier as we can simply train our network to predict $Y: (3\\times N)$, and then multiply it by our matrix of eigenvectors to yield $B$."
   ]
  }
 ],
 "metadata": {
  "kernelspec": {
   "display_name": "Python 3",
   "language": "python",
   "name": "python3"
  },
  "language_info": {
   "codemirror_mode": {
    "name": "ipython",
    "version": 3
   },
   "file_extension": ".py",
   "mimetype": "text/x-python",
   "name": "python",
   "nbconvert_exporter": "python",
   "pygments_lexer": "ipython3",
   "version": "3.7.4"
  }
 },
 "nbformat": 4,
 "nbformat_minor": 2
}
