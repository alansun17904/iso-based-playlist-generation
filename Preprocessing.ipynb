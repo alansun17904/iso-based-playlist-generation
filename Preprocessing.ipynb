{
 "cells": [
  {
   "cell_type": "markdown",
   "metadata": {},
   "source": [
    "Alan Sun\n",
    "\n",
    "May 25, 2021\n",
    "\n",
    "# Preprocessing\n",
    "- We tokenize all of the inputs (mood matrices) as well as append `<sos>`, `<eos>` tokens to the sequences. \n",
    "- We convert all such data into a dataframe and store the dataframe. "
   ]
  },
  {
   "cell_type": "markdown",
   "metadata": {},
   "source": [
    "## Extract all the unique moods"
   ]
  },
  {
   "cell_type": "code",
   "execution_count": 29,
   "metadata": {},
   "outputs": [],
   "source": [
    "import json\n",
    "import torch\n",
    "import numpy as np\n",
    "import pandas as pd"
   ]
  },
  {
   "cell_type": "code",
   "execution_count": 6,
   "metadata": {},
   "outputs": [],
   "source": [
    "features = json.load(open('playlist-tracks-features'))"
   ]
  },
  {
   "cell_type": "code",
   "execution_count": 7,
   "metadata": {},
   "outputs": [],
   "source": [
    "moods = {}\n",
    "for i in features.keys():\n",
    "    if 'iso01' in i or 'iso02' in i:\n",
    "        continue\n",
    "    states = i[8:].split(' to ')\n",
    "    states = [s.lower().strip() for s in states]\n",
    "    states = [[x.lower().strip() for x in s.split(', ')] for s in states]\n",
    "    moods[i[:5]] = states"
   ]
  },
  {
   "cell_type": "markdown",
   "metadata": {},
   "source": [
    "## Tokenize mood states and location labels"
   ]
  },
  {
   "cell_type": "code",
   "execution_count": 10,
   "metadata": {},
   "outputs": [],
   "source": [
    "class Tokenizer:\n",
    "    def __init__(self):\n",
    "        self.stoi = {}\n",
    "        self.itos = {}\n",
    "    \n",
    "    def __len__(self):\n",
    "        return len(self.stoi)\n",
    "    \n",
    "    def fit_on_moods(self, moods):\n",
    "        flat = []\n",
    "        \n",
    "        Tokenizer.flatten(moods, flat)\n",
    "        vocab = sorted(set(flat))\n",
    "        vocab.append('<sos>')\n",
    "        vocab.append('<eos>')\n",
    "        vocab.append('<pad>')\n",
    "        for index, word in enumerate(vocab):\n",
    "            self.stoi[word] = index\n",
    "        self.itos = {v : k for k, v in self.stoi.items()}\n",
    "\n",
    "    def flatten(l, flat):\n",
    "        \"\"\"\n",
    "        Recursively, flatten a list.\n",
    "        \"\"\"\n",
    "        if type(l) != list:\n",
    "            flat.append(l)\n",
    "        else:\n",
    "            for el in l:\n",
    "                Tokenizer.flatten(el, flat)\n",
    "\n",
    "    def moods_to_token(self, states, reverse=False):\n",
    "        \"\"\"\n",
    "        Recursively tokenize moods, while preserving the\n",
    "        structure of the list. When `reverse` is true, the\n",
    "        method translates the tokens back into the mood strings\n",
    "        \"\"\"\n",
    "        if type(states) != list:\n",
    "            if reverse:\n",
    "                return self.itos[states]\n",
    "            else:\n",
    "                return self.stoi[states]\n",
    "        else:\n",
    "            for index, state in enumerate(states):\n",
    "                states[index] = self.moods_to_token(state, reverse)\n",
    "            return states"
   ]
  },
  {
   "cell_type": "code",
   "execution_count": 11,
   "metadata": {
    "scrolled": false
   },
   "outputs": [],
   "source": [
    "tokenizer = Tokenizer()\n",
    "tokenizer.fit_on_moods(list(moods.values()))"
   ]
  },
  {
   "cell_type": "code",
   "execution_count": 13,
   "metadata": {},
   "outputs": [],
   "source": [
    "for l in moods.values():\n",
    "    tokenizer.moods_to_token(l)"
   ]
  },
  {
   "cell_type": "markdown",
   "metadata": {},
   "source": [
    "## Vectorizing audio features\n",
    "We now want to organize the audio features into a single vector. Note that we also want to preserve the in which these features appear as well as the order of the songs relative to each other. "
   ]
  },
  {
   "cell_type": "code",
   "execution_count": 46,
   "metadata": {},
   "outputs": [],
   "source": [
    "tracks = json.load(open('playlist-tracks-features'))"
   ]
  },
  {
   "cell_type": "code",
   "execution_count": 72,
   "metadata": {},
   "outputs": [],
   "source": [
    "useful_features = ['danceability', 'energy', 'key', 'loudness', \n",
    "                   'mode', 'speechiness', 'acousticness', 'instrumentalness',\n",
    "                   'liveness', 'valence', 'tempo']\n",
    "def extract_features(songs):\n",
    "    \"\"\"\n",
    "    We extract the features into a two dimesional array, if \n",
    "    l is None, then None is returned.\n",
    "    \"\"\"\n",
    "    if songs == [None]:\n",
    "        return songs\n",
    "    songs_features = []\n",
    "    for song in songs:\n",
    "        # we first sort the keys so we retain the same order\n",
    "        # every time.\n",
    "        keys = sorted(song.keys())\n",
    "        song_features = []\n",
    "        for key in keys:\n",
    "            if key in useful_features:\n",
    "                song_features.append(song[key])\n",
    "        songs_features.append(song_features)\n",
    "    return songs_features"
   ]
  },
  {
   "cell_type": "code",
   "execution_count": 76,
   "metadata": {},
   "outputs": [],
   "source": [
    "features = {}\n",
    "for k, v in tracks.items():\n",
    "    if k == 'iso01' or k == 'iso02':\n",
    "        continue\n",
    "    features[k[:5]] = json.dumps(extract_features(v))"
   ]
  },
  {
   "cell_type": "markdown",
   "metadata": {},
   "source": [
    "# Combine into dataframe\n",
    "Now with the mood states tokenized and the features discretized into vectors, we can store all of this into a Dataframe. Note that for readability, we also want to store the order of the features, which they were encoded."
   ]
  },
  {
   "cell_type": "code",
   "execution_count": 93,
   "metadata": {},
   "outputs": [],
   "source": [
    "for k, v in moods.items():\n",
    "    moods[k] = json.dumps(v)"
   ]
  },
  {
   "cell_type": "code",
   "execution_count": 100,
   "metadata": {},
   "outputs": [],
   "source": [
    "df1 = pd.DataFrame(features.values(), index=features.keys(), columns=['features'])\n",
    "df2 = pd.DataFrame(moods.values(), index=moods.keys(), columns=['moods_states'])\n",
    "df = df2.join(df1)"
   ]
  },
  {
   "cell_type": "code",
   "execution_count": 107,
   "metadata": {},
   "outputs": [],
   "source": [
    "torch.save(tokenizer, 'tokenizer.pth')\n",
    "df.to_csv('train.csv')\n",
    "json.dump(sorted(useful_features), open('useful_features', 'w+'))"
   ]
  },
  {
   "cell_type": "code",
   "execution_count": null,
   "metadata": {},
   "outputs": [],
   "source": []
  }
 ],
 "metadata": {
  "kernelspec": {
   "display_name": "Python 3",
   "language": "python",
   "name": "python3"
  },
  "language_info": {
   "codemirror_mode": {
    "name": "ipython",
    "version": 3
   },
   "file_extension": ".py",
   "mimetype": "text/x-python",
   "name": "python",
   "nbconvert_exporter": "python",
   "pygments_lexer": "ipython3",
   "version": "3.7.4"
  }
 },
 "nbformat": 4,
 "nbformat_minor": 2
}
