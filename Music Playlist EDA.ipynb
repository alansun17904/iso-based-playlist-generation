{
 "cells": [
  {
   "cell_type": "markdown",
   "metadata": {},
   "source": [
    "# ISO Playlists EDA\n",
    "- Preprocessing\n",
    "- Exploratory Data Analysis\n",
    "- Conclusions and Evaluation"
   ]
  },
  {
   "cell_type": "code",
   "execution_count": 32,
   "metadata": {},
   "outputs": [],
   "source": [
    "import requests\n",
    "import threading\n",
    "from requests_oauthlib import OAuth1\n",
    "import numpy as np\n",
    "import pandas as pd\n",
    "import matplotlib.pyplot as plt\n",
    "import json\n",
    "import random"
   ]
  },
  {
   "cell_type": "code",
   "execution_count": 85,
   "metadata": {},
   "outputs": [],
   "source": [
    "API_TOKEN = \"\"\n",
    "SOAR_ID = \"etoj1vywg8pvjmuxgovg6l9kb\"\n",
    "headers = {\"Authorization\": f\"Bearer {API_TOKEN}\"}"
   ]
  },
  {
   "cell_type": "markdown",
   "metadata": {},
   "source": [
    "Get all of the playlists in the user's profile."
   ]
  },
  {
   "cell_type": "code",
   "execution_count": 8,
   "metadata": {
    "scrolled": true
   },
   "outputs": [],
   "source": [
    "url = f\"https://api.spotify.com/v1/users/{SOAR_ID}/playlists\"\n",
    "playlists = requests.get(url, headers=headers, params={'limit': 50}).json()\n",
    "playlist_ids = [v['id'] for v in playlists['items']]\n",
    "playlist_descriptions = [v['name'] + ' - ' + v['description'] for v in playlists['items']]"
   ]
  },
  {
   "cell_type": "code",
   "execution_count": 10,
   "metadata": {
    "scrolled": true
   },
   "outputs": [
    {
     "data": {
      "text/plain": [
       "['iso29 - tender to powerful',\n",
       " 'iso28 - happy to powerful',\n",
       " 'iso27 - happy to tender',\n",
       " 'iso26 - sad to powerful',\n",
       " 'iso25 - sad to tender',\n",
       " 'iso24 - sad to happy',\n",
       " 'iso23 - tense to powerful',\n",
       " 'iso22 - tense to tender',\n",
       " 'iso21 - tense to happy',\n",
       " 'iso20 - anxious to meditative to relaxed',\n",
       " 'iso19 - melancholic to tender to affectionate',\n",
       " 'iso18 - irritated to meditative to soothed',\n",
       " 'iso17 - serene to animated to energetic',\n",
       " 'iso16 - sad to animated to joyful',\n",
       " 'iso15 - tenderness to joyful to energetic',\n",
       " 'iso14 - energetic to dreamy to relaxed',\n",
       " 'iso13 - nervous to animated to energetic',\n",
       " 'iso12 - angry to amused to soothed',\n",
       " 'iso11 - sad to soothed to triumphant',\n",
       " 'iso10 - anxious to relaxed to joyful',\n",
       " 'iso09 - sad to happy',\n",
       " 'iso08 - nervous to calm',\n",
       " 'iso07 - sluggish to energized',\n",
       " 'iso06 - Sad to Hopeful',\n",
       " 'iso05 - lonely to connected',\n",
       " 'iso04 - calm, dreamy, melancholic to calm, relaxed, meditative',\n",
       " 'iso03 - anxious to calm, motivated',\n",
       " 'iso02 - Heiderscheit 2015; doi: {10.1093&#x2F;mtp&#x2F;miu042}',\n",
       " 'iso01 - Heiderscheit 2015; doi: {10.1093&#x2F;mtp&#x2F;miu042}']"
      ]
     },
     "execution_count": 10,
     "metadata": {},
     "output_type": "execute_result"
    }
   ],
   "source": [
    "playlist_descriptions"
   ]
  },
  {
   "cell_type": "markdown",
   "metadata": {},
   "source": [
    "After we get all of the playlist IDs, we now need to get the track ID of all of the tracks in each playlist. (*TODO: with more data it would probably be a good idea to multithread the requests*)"
   ]
  },
  {
   "cell_type": "code",
   "execution_count": 11,
   "metadata": {
    "scrolled": false
   },
   "outputs": [],
   "source": [
    "labeled_data = {}\n",
    "\n",
    "def get_playlist_info(playlist_id, playlist_description,\n",
    "                      headers, lock):\n",
    "    url = f\"https://api.spotify.com/v1/playlists/{playlist_id}/tracks\"\n",
    "    tracks = requests.get(url, headers=headers)\n",
    "    tracks = tracks.json()\n",
    "    track_ids = [p['track']['id'] for p in tracks['items']]\n",
    "    lock.acquire()\n",
    "    labeled_data[playlist_description] = track_ids\n",
    "    lock.release()\n",
    "\n",
    "# Create threads\n",
    "threads = []\n",
    "lock = threading.Lock()\n",
    "for pid, pdescript in zip(playlist_ids, playlist_descriptions):\n",
    "    threads.append(threading.Thread(target=get_playlist_info,\n",
    "                                    args=(pid, pdescript, headers, lock)))\n",
    "# Start threads\n",
    "for thread in threads:\n",
    "    thread.start()\n",
    "\n",
    "# Join threads\n",
    "for thread in threads:\n",
    "    thread.join()"
   ]
  },
  {
   "cell_type": "code",
   "execution_count": 12,
   "metadata": {},
   "outputs": [],
   "source": [
    "json.dump(labeled_data, open(\"playlist-tracks-id\", \"w+\"))"
   ]
  },
  {
   "cell_type": "markdown",
   "metadata": {},
   "source": [
    "Now we get all of the audio features associated with each track in a playlist."
   ]
  },
  {
   "cell_type": "code",
   "execution_count": 13,
   "metadata": {
    "scrolled": true
   },
   "outputs": [],
   "source": [
    "features = {}\n",
    "\n",
    "def get_audio_features(playlist, track_ids, headers, lock):\n",
    "    audio_feature_request = {'ids':','.join(track_ids)}\n",
    "    audio_url = \"https://api.spotify.com/v1/audio-features\"\n",
    "    aud_features = requests.get(audio_url, headers=headers, \n",
    "                 params=audio_feature_request)\n",
    "    aud_features = aud_features.json()['audio_features']\n",
    "    lock.acquire()\n",
    "    features[playlist] = aud_features\n",
    "    lock.release()\n",
    "\n",
    "# Create threads\n",
    "threads = []\n",
    "lock = threading.Lock()\n",
    "for k, v in labeled_data.items():\n",
    "    threads.append(threading.Thread(target=get_audio_features,\n",
    "                                    args=(k, v, headers, lock)))\n",
    "# Start threads\n",
    "for thread in threads:\n",
    "    thread.start()\n",
    "\n",
    "# Join threads\n",
    "for thread in threads:\n",
    "    thread.join()"
   ]
  },
  {
   "cell_type": "code",
   "execution_count": 14,
   "metadata": {},
   "outputs": [],
   "source": [
    "json.dump(features, open(\"playlist-tracks-features\", \"w+\"))"
   ]
  },
  {
   "cell_type": "code",
   "execution_count": 15,
   "metadata": {},
   "outputs": [],
   "source": [
    "del features['iso02 - Heiderscheit 2015; doi: {10.1093&#x2F;mtp&#x2F;miu042}']\n",
    "del features['iso01 - Heiderscheit 2015; doi: {10.1093&#x2F;mtp&#x2F;miu042}']"
   ]
  },
  {
   "cell_type": "code",
   "execution_count": 16,
   "metadata": {},
   "outputs": [
    {
     "data": {
      "text/plain": [
       "dict_keys(['iso29 - tender to powerful', 'iso16 - sad to animated to joyful', 'iso12 - angry to amused to soothed', 'iso14 - energetic to dreamy to relaxed', 'iso27 - happy to tender', 'iso25 - sad to tender', 'iso24 - sad to happy', 'iso20 - anxious to meditative to relaxed', 'iso13 - nervous to animated to energetic', 'iso21 - tense to happy', 'iso23 - tense to powerful', 'iso19 - melancholic to tender to affectionate', 'iso28 - happy to powerful', 'iso15 - tenderness to joyful to energetic', 'iso22 - tense to tender', 'iso17 - serene to animated to energetic', 'iso18 - irritated to meditative to soothed', 'iso09 - sad to happy', 'iso06 - Sad to Hopeful', 'iso26 - sad to powerful', 'iso08 - nervous to calm', 'iso10 - anxious to relaxed to joyful', 'iso03 - anxious to calm, motivated', 'iso04 - calm, dreamy, melancholic to calm, relaxed, meditative', 'iso07 - sluggish to energized', 'iso05 - lonely to connected', 'iso11 - sad to soothed to triumphant'])"
      ]
     },
     "execution_count": 16,
     "metadata": {},
     "output_type": "execute_result"
    }
   ],
   "source": [
    "features.keys()"
   ]
  },
  {
   "cell_type": "code",
   "execution_count": 17,
   "metadata": {},
   "outputs": [
    {
     "data": {
      "text/plain": [
       "dict_keys(['danceability', 'energy', 'key', 'loudness', 'mode', 'speechiness', 'acousticness', 'instrumentalness', 'liveness', 'valence', 'tempo', 'type', 'id', 'uri', 'track_href', 'analysis_url', 'duration_ms', 'time_signature'])"
      ]
     },
     "execution_count": 17,
     "metadata": {},
     "output_type": "execute_result"
    }
   ],
   "source": [
    "features['iso09 - sad to happy'][0].keys()"
   ]
  },
  {
   "cell_type": "markdown",
   "metadata": {},
   "source": [
    "We now plot the individual metrics as a function of the song time step."
   ]
  },
  {
   "cell_type": "code",
   "execution_count": 18,
   "metadata": {},
   "outputs": [],
   "source": [
    "def plot_attribute(attribute, features):\n",
    "    plt.figure(figsize=(40, 20), constrained_layout=True)\n",
    "    fig, ax = plt.subplots(6, 3)\n",
    "    fig.suptitle(f\"danceability * energy * valence vs. time step of a given playlist\")\n",
    "    fig.set_size_inches(18.5, 10.5)\n",
    "    # plot valence\n",
    "    ax_num = 1\n",
    "    for i in range(6):\n",
    "        for j in range(3):\n",
    "            axis = ax[i][j]\n",
    "            feature = features[list(features.keys())[i]]\n",
    "            featvs_time = [v['danceability'] * v['energy'] * v['valence'] for v in feature]\n",
    "            axis.plot(featvs_time)\n",
    "            axis.set_title(list(features.keys())[i], fontsize=10)\n",
    "            axis.axes.get_xaxis().set_visible(False)\n",
    "    plt.savefig(f'aggregate.png')"
   ]
  },
  {
   "cell_type": "markdown",
   "metadata": {},
   "source": [
    "## Conclusion and Evaluation\n",
    "From our generated graphs we see apparent correlations between the various features: valence, danceability, energy, and the moods that the playlists supposedly emmulate. Moving forward, this demonstrates that we may be able to create synthetic data through simple linear regression techniques. Generally, we see that many of the curves present look logarithmic. Thus, may be represented using the general form: \n",
    "$$a\\cdot \\frac{\\log{x}}{\\log b} + c, \\qquad a, b, c \\in \\mathbb{R}.$$\n",
    "\n",
    "One limitation to such a regression is that it is also not a function of specified input length.\n",
    "\n",
    "Further EDA needs to be done on keyword clustering – currently, the various graphs for each projected curve is jagged, graphs and their respective data points can be averaged together based on the various starting keywords and ending keywords."
   ]
  },
  {
   "cell_type": "markdown",
   "metadata": {},
   "source": [
    "# Spotify Playlist Query Based on Audio Features\n",
    "In this section, we examine the efficacy of spotify queries based on Spotify extracted audio features. We start by going through each playlist querying the target feature based on the exact extracted audio feature. Then, we increase the testing range by using the min, max feature queries. The efficacy of each test is measured by whether or not the target track appears in the top 1, 5, 10, 20 returned results.\n",
    "\n",
    "The Spotify `recommendations` API endpoint has 3 required fields: `seed_artists`, `seed_genres`, `seed_tracks`. My understanding of these seeds are that they provide a reference point for Spotify to begin searching the space of possible song which match the other `recommendation` criterions."
   ]
  },
  {
   "cell_type": "code",
   "execution_count": 113,
   "metadata": {},
   "outputs": [],
   "source": [
    "# we start by getting the *fixed* genre recommendations from spotify\n",
    "# we probably want the user to choose this at the initialiation of the app.\n",
    "url = \"https://api.spotify.com/v1/recommendations/available-genre-seeds\"\n",
    "genres = requests.get(url, headers=headers).json()['genres']\n",
    "\n",
    "# we choose 3 random genres\n",
    "genres = 'acoustic'\n",
    "          "
   ]
  },
  {
   "cell_type": "code",
   "execution_count": 114,
   "metadata": {},
   "outputs": [],
   "source": [
    "url = 'https://api.spotify.com/v1/recommendations'"
   ]
  },
  {
   "cell_type": "code",
   "execution_count": 115,
   "metadata": {},
   "outputs": [],
   "source": [
    "ld = [v for v in labeled_data if len(labeled_data[v]) != 0]"
   ]
  },
  {
   "cell_type": "markdown",
   "metadata": {},
   "source": [
    "## Exact Feature Query ($\\pm$0%)"
   ]
  },
  {
   "cell_type": "code",
   "execution_count": 121,
   "metadata": {},
   "outputs": [],
   "source": [
    "# choose a playlist with non-zero features\n",
    "ld = [v for v in labeled_data if len(labeled_data[v]) != 0]\n",
    "ld.remove('iso02 - Heiderscheit 2015; doi: {10.1093&#x2F;mtp&#x2F;miu042}')\n",
    "ld.remove('iso01 - Heiderscheit 2015; doi: {10.1093&#x2F;mtp&#x2F;miu042}')\n",
    "ref = ld\n",
    "for iso in ld:\n",
    "    ref.remove(iso)\n",
    "    # get track for search\n",
    "    i = random.randint(0, 9)\n",
    "    trackid = labeled_data[iso][i]\n",
    "    feature = features[iso][i]\n",
    "    feature.pop('id', None); feature.pop('type', None); feature.pop('uri', None)\n",
    "    feature.pop('track_href', None); feature.pop('analysis_url', None)\n",
    "    feature.pop('duration_ms', None)\n",
    "    # these three playlists\n",
    "    playlists = [random.randint(0, len(ld) - 1) for i in range(2)]\n",
    "\n",
    "    # get seed tracks\n",
    "    r_tracks = [labeled_data[ld[playlists[i]]][random.randint(0, 9)] \n",
    "                for i in range(2)]\n",
    "    \n",
    "    # get artists from seed tracks and query\n",
    "    urls = [f'https://api.spotify.com/v1/tracks/{id}'\n",
    "            for id in r_tracks]\n",
    "    req = [requests.get(url, headers=headers).json() for url in urls]\n",
    "    artists = [r['album']['artists'][0]['id'] for r in req]\n",
    "    ref.append(iso)\n",
    "    \n",
    "    # make requests\n",
    "    params = {f'target_{k}': v for k, v in feature.items()}\n",
    "    params['seed_artists'] = ','.join(artists)\n",
    "    params['seed_tracks'] = ','.join(r_tracks)\n",
    "    params['seed_genres'] = genres\n",
    "    req = requests.get(url, headers=headers, params=params).json()\n",
    "    break"
   ]
  },
  {
   "cell_type": "code",
   "execution_count": 122,
   "metadata": {},
   "outputs": [
    {
     "name": "stdout",
     "output_type": "stream",
     "text": [
      "0QZ5yyl6B6utIWkxeBDxQN\n"
     ]
    }
   ],
   "source": [
    "print(trackid)"
   ]
  },
  {
   "cell_type": "code",
   "execution_count": 128,
   "metadata": {},
   "outputs": [
    {
     "data": {
      "text/plain": [
       "'2IAR0DziHCjSu16gR4ihvy'"
      ]
     },
     "execution_count": 128,
     "metadata": {},
     "output_type": "execute_result"
    }
   ],
   "source": [
    "req['tracks'][0]['id']"
   ]
  },
  {
   "cell_type": "code",
   "execution_count": 80,
   "metadata": {},
   "outputs": [
    {
     "data": {
      "text/plain": [
       "'6zvqq50PL7io0rprbkrYc9'"
      ]
     },
     "execution_count": 80,
     "metadata": {},
     "output_type": "execute_result"
    }
   ],
   "source": [
    "feature.pop('id')"
   ]
  },
  {
   "cell_type": "code",
   "execution_count": 82,
   "metadata": {},
   "outputs": [
    {
     "data": {
      "text/plain": [
       "-8.024"
      ]
     },
     "execution_count": 82,
     "metadata": {},
     "output_type": "execute_result"
    }
   ],
   "source": [
    "feature.pop('key'); feature.pop('loudness')"
   ]
  },
  {
   "cell_type": "code",
   "execution_count": 83,
   "metadata": {},
   "outputs": [
    {
     "data": {
      "text/plain": [
       "{'danceability': 0.668,\n",
       " 'energy': 0.547,\n",
       " 'mode': 1,\n",
       " 'speechiness': 0.0353,\n",
       " 'acousticness': 0.398,\n",
       " 'instrumentalness': 0.0766,\n",
       " 'liveness': 0.0931,\n",
       " 'valence': 0.192,\n",
       " 'tempo': 83.5,\n",
       " 'type': 'audio_features',\n",
       " 'uri': 'spotify:track:6zvqq50PL7io0rprbkrYc9',\n",
       " 'track_href': 'https://api.spotify.com/v1/tracks/6zvqq50PL7io0rprbkrYc9',\n",
       " 'analysis_url': 'https://api.spotify.com/v1/audio-analysis/6zvqq50PL7io0rprbkrYc9',\n",
       " 'duration_ms': 194871,\n",
       " 'time_signature': 4}"
      ]
     },
     "execution_count": 83,
     "metadata": {},
     "output_type": "execute_result"
    }
   ],
   "source": [
    "feature"
   ]
  },
  {
   "cell_type": "code",
   "execution_count": 65,
   "metadata": {},
   "outputs": [
    {
     "data": {
      "text/plain": [
       "[{'external_urls': {'spotify': 'https://open.spotify.com/artist/6USv9qhCn6zfxlBQIYJ9qs'},\n",
       "  'href': 'https://api.spotify.com/v1/artists/6USv9qhCn6zfxlBQIYJ9qs',\n",
       "  'id': '6USv9qhCn6zfxlBQIYJ9qs',\n",
       "  'name': 'Dominic Fike',\n",
       "  'type': 'artist',\n",
       "  'uri': 'spotify:artist:6USv9qhCn6zfxlBQIYJ9qs'}]"
      ]
     },
     "execution_count": 65,
     "metadata": {},
     "output_type": "execute_result"
    }
   ],
   "source": [
    "req[0]['album']['artists']"
   ]
  },
  {
   "cell_type": "code",
   "execution_count": 33,
   "metadata": {},
   "outputs": [
    {
     "data": {
      "text/plain": [
       "1"
      ]
     },
     "execution_count": 33,
     "metadata": {},
     "output_type": "execute_result"
    }
   ],
   "source": [
    "random.randint(0, 1)"
   ]
  },
  {
   "cell_type": "markdown",
   "metadata": {},
   "source": [
    "## Approximate Feature Query ($\\pm$3%)"
   ]
  },
  {
   "cell_type": "markdown",
   "metadata": {},
   "source": [
    "## Approximate Feature Query ($\\pm$5%)"
   ]
  },
  {
   "cell_type": "markdown",
   "metadata": {},
   "source": [
    "## Approximate Feature Query ($\\pm$7%)"
   ]
  },
  {
   "cell_type": "markdown",
   "metadata": {},
   "source": [
    "## Approximate Feature Query ($\\pm$10%)"
   ]
  },
  {
   "cell_type": "markdown",
   "metadata": {},
   "source": [
    "## Approximate Feature Query ($\\pm$12%)"
   ]
  },
  {
   "cell_type": "markdown",
   "metadata": {},
   "source": [
    "## Approximate Feature Query ($\\pm$15%)"
   ]
  },
  {
   "cell_type": "markdown",
   "metadata": {},
   "source": [
    "## Approximate Feature Query ($\\pm$20%)"
   ]
  }
 ],
 "metadata": {
  "kernelspec": {
   "display_name": "Python 3",
   "language": "python",
   "name": "python3"
  },
  "language_info": {
   "codemirror_mode": {
    "name": "ipython",
    "version": 3
   },
   "file_extension": ".py",
   "mimetype": "text/x-python",
   "name": "python",
   "nbconvert_exporter": "python",
   "pygments_lexer": "ipython3",
   "version": "3.7.4"
  }
 },
 "nbformat": 4,
 "nbformat_minor": 4
}
