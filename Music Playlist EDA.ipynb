{
 "cells": [
  {
   "cell_type": "markdown",
   "metadata": {},
   "source": [
    "# ISO Playlists EDA\n",
    "\\author{Alan Sun}\n",
    "- Preprocessing\n",
    "- Exploratory Data Analysis\n",
    "- Conclusions and Evaluation"
   ]
  },
  {
   "cell_type": "code",
   "execution_count": 1,
   "metadata": {},
   "outputs": [],
   "source": [
    "import requests\n",
    "import threading\n",
    "from requests_oauthlib import OAuth1\n",
    "import numpy as np\n",
    "import pandas as pd\n",
    "import matplotlib.pyplot as plt\n",
    "import json\n",
    "import random"
   ]
  },
  {
   "cell_type": "code",
   "execution_count": 2,
   "metadata": {},
   "outputs": [],
   "source": [
    "API_TOKEN = open('api').readline()\n",
    "SOAR_ID = \"etoj1vywg8pvjmuxgovg6l9kb\"\n",
    "headers = {\"Authorization\": f\"Bearer {API_TOKEN}\"}"
   ]
  },
  {
   "cell_type": "markdown",
   "metadata": {},
   "source": [
    "Get all of the playlists in the user's profile."
   ]
  },
  {
   "cell_type": "code",
   "execution_count": 3,
   "metadata": {
    "scrolled": true
   },
   "outputs": [],
   "source": [
    "url = f\"https://api.spotify.com/v1/users/{SOAR_ID}/playlists\"\n",
    "playlists = requests.get(url, headers=headers, params={'limit': 50}).json()\n",
    "playlist_ids = [v['id'] for v in playlists['items']]\n",
    "playlist_descriptions = [v['name'] + ' - ' + v['description'] for v in playlists['items']]"
   ]
  },
  {
   "cell_type": "code",
   "execution_count": 4,
   "metadata": {
    "scrolled": true
   },
   "outputs": [
    {
     "data": {
      "text/plain": [
       "['iso30 - nervous, agitated, energetic to calm, relaxed, soothed',\n",
       " 'iso29 - tender to powerful',\n",
       " 'iso28 - happy to powerful',\n",
       " 'iso27 - happy to tender',\n",
       " 'iso26 - sad to powerful',\n",
       " 'iso25 - sad to tender',\n",
       " 'iso24 - sad to happy',\n",
       " 'iso23 - tense to powerful',\n",
       " 'iso22 - tense to tender',\n",
       " 'iso21 - tense to happy',\n",
       " 'iso20 - anxious to meditative to relaxed',\n",
       " 'iso19 - melancholic to tender to affectionate',\n",
       " 'iso18 - irritated to meditative to soothed',\n",
       " 'iso17 - serene to animated to energetic',\n",
       " 'iso16 - sad to animated to joyful',\n",
       " 'iso15 - tenderness to joyful to energetic',\n",
       " 'iso14 - energetic to dreamy to relaxed',\n",
       " 'iso13 - nervous to animated to energetic',\n",
       " 'iso12 - angry to amused to soothed',\n",
       " 'iso11 - sad to soothed to triumphant',\n",
       " 'iso10 - anxious to relaxed to joyful',\n",
       " 'iso09 - sad to happy',\n",
       " 'iso08 - nervous to calm',\n",
       " 'iso07 - sluggish to energized',\n",
       " 'iso06 - Sad to Hopeful',\n",
       " 'iso05 - lonely to connected',\n",
       " 'iso04 - calm, dreamy, melancholic to calm, relaxed, meditative',\n",
       " 'iso03 - anxious to calm, motivated']"
      ]
     },
     "execution_count": 4,
     "metadata": {},
     "output_type": "execute_result"
    }
   ],
   "source": [
    "playlist_descriptions"
   ]
  },
  {
   "cell_type": "markdown",
   "metadata": {},
   "source": [
    "After we get all of the playlist IDs, we now need to get the track ID of all of the tracks in each playlist. (*TODO: with more data it would probably be a good idea to multithread the requests*)"
   ]
  },
  {
   "cell_type": "code",
   "execution_count": 5,
   "metadata": {
    "scrolled": false
   },
   "outputs": [],
   "source": [
    "labeled_data = {}\n",
    "\n",
    "def get_playlist_info(playlist_id, playlist_description,\n",
    "                      headers, lock):\n",
    "    url = f\"https://api.spotify.com/v1/playlists/{playlist_id}/tracks\"\n",
    "    tracks = requests.get(url, headers=headers)\n",
    "    tracks = tracks.json()\n",
    "    track_ids = [p['track']['id'] for p in tracks['items']]\n",
    "    lock.acquire()\n",
    "    labeled_data[playlist_description] = track_ids\n",
    "    lock.release()\n",
    "\n",
    "# Create threads\n",
    "threads = []\n",
    "lock = threading.Lock()\n",
    "for pid, pdescript in zip(playlist_ids, playlist_descriptions):\n",
    "    threads.append(threading.Thread(target=get_playlist_info,\n",
    "                                    args=(pid, pdescript, headers, lock)))\n",
    "# Start threads\n",
    "for thread in threads:\n",
    "    thread.start()\n",
    "\n",
    "# Join threads\n",
    "for thread in threads:\n",
    "    thread.join()"
   ]
  },
  {
   "cell_type": "code",
   "execution_count": 6,
   "metadata": {},
   "outputs": [],
   "source": [
    "json.dump(labeled_data, open(\"data/playlist-tracks-id\", \"w+\"))"
   ]
  },
  {
   "cell_type": "markdown",
   "metadata": {},
   "source": [
    "Now we get all of the audio features associated with each track in a playlist."
   ]
  },
  {
   "cell_type": "code",
   "execution_count": 7,
   "metadata": {
    "scrolled": true
   },
   "outputs": [],
   "source": [
    "features = {}\n",
    "\n",
    "def get_audio_features(playlist, track_ids, headers, lock):\n",
    "    audio_feature_request = {'ids':','.join(track_ids)}\n",
    "    audio_url = \"https://api.spotify.com/v1/audio-features\"\n",
    "    aud_features = requests.get(audio_url, headers=headers, \n",
    "                 params=audio_feature_request)\n",
    "    aud_features = aud_features.json()['audio_features']\n",
    "    lock.acquire()\n",
    "    features[playlist] = aud_features\n",
    "    lock.release()\n",
    "\n",
    "# Create threads\n",
    "threads = []\n",
    "lock = threading.Lock()\n",
    "for k, v in labeled_data.items():\n",
    "    threads.append(threading.Thread(target=get_audio_features,\n",
    "                                    args=(k, v, headers, lock)))\n",
    "# Start threads\n",
    "for thread in threads:\n",
    "    thread.start()\n",
    "\n",
    "# Join threads\n",
    "for thread in threads:\n",
    "    thread.join()"
   ]
  },
  {
   "cell_type": "code",
   "execution_count": 8,
   "metadata": {},
   "outputs": [],
   "source": [
    "json.dump(features, open(\"data/playlist-tracks-features\", \"w+\"))"
   ]
  },
  {
   "cell_type": "code",
   "execution_count": 9,
   "metadata": {},
   "outputs": [
    {
     "data": {
      "text/plain": [
       "dict_keys(['iso27 - happy to tender', 'iso29 - tender to powerful', 'iso26 - sad to powerful', 'iso23 - tense to powerful', 'iso30 - nervous, agitated, energetic to calm, relaxed, soothed', 'iso28 - happy to powerful', 'iso19 - melancholic to tender to affectionate', 'iso22 - tense to tender', 'iso24 - sad to happy', 'iso18 - irritated to meditative to soothed', 'iso25 - sad to tender', 'iso17 - serene to animated to energetic', 'iso20 - anxious to meditative to relaxed', 'iso15 - tenderness to joyful to energetic', 'iso14 - energetic to dreamy to relaxed', 'iso11 - sad to soothed to triumphant', 'iso16 - sad to animated to joyful', 'iso21 - tense to happy', 'iso13 - nervous to animated to energetic', 'iso12 - angry to amused to soothed', 'iso09 - sad to happy', 'iso05 - lonely to connected', 'iso10 - anxious to relaxed to joyful', 'iso06 - Sad to Hopeful', 'iso08 - nervous to calm', 'iso07 - sluggish to energized', 'iso03 - anxious to calm, motivated', 'iso04 - calm, dreamy, melancholic to calm, relaxed, meditative'])"
      ]
     },
     "execution_count": 9,
     "metadata": {},
     "output_type": "execute_result"
    }
   ],
   "source": [
    "features.keys()"
   ]
  },
  {
   "cell_type": "code",
   "execution_count": 10,
   "metadata": {},
   "outputs": [
    {
     "data": {
      "text/plain": [
       "dict_keys(['danceability', 'energy', 'key', 'loudness', 'mode', 'speechiness', 'acousticness', 'instrumentalness', 'liveness', 'valence', 'tempo', 'type', 'id', 'uri', 'track_href', 'analysis_url', 'duration_ms', 'time_signature'])"
      ]
     },
     "execution_count": 10,
     "metadata": {},
     "output_type": "execute_result"
    }
   ],
   "source": [
    "features['iso09 - sad to happy'][0].keys()"
   ]
  },
  {
   "cell_type": "markdown",
   "metadata": {},
   "source": [
    "We now plot the individual metrics as a function of the song time step."
   ]
  },
  {
   "cell_type": "code",
   "execution_count": 11,
   "metadata": {},
   "outputs": [],
   "source": [
    "def plot_attribute(attribute, features):\n",
    "    plt.figure(figsize=(40, 20), constrained_layout=True)\n",
    "    fig, ax = plt.subplots(6, 3)\n",
    "    fig.suptitle(f\"{attribute} vs. time step of a given playlist\")\n",
    "    fig.set_size_inches(18.5, 10.5)\n",
    "    nonempty_keys = [v for v in features.keys() if features[v] != [None]]\n",
    "    # plot valence\n",
    "    ax_num = 1\n",
    "    for i in range(6):\n",
    "        for j in range(3):\n",
    "            axis = ax[i][j]\n",
    "            feature = features[nonempty_keys[i]]\n",
    "            featvs_time = [v[attribute] for v in feature]\n",
    "            axis.plot(featvs_time)\n",
    "            axis.set_title(nonempty_keys[i], fontsize=10)\n",
    "            axis.axes.get_xaxis().set_visible(False)\n",
    "    plt.show()"
   ]
  },
  {
   "cell_type": "code",
   "execution_count": 13,
   "metadata": {},
   "outputs": [
    {
     "data": {
      "text/plain": [
       "<Figure size 2880x1440 with 0 Axes>"
      ]
     },
     "metadata": {},
     "output_type": "display_data"
    },
    {
     "data": {
      "image/png": "[encoded data removed]",
      "text/plain": [
       "<Figure size 1332x756 with 18 Axes>"
      ]
     },
     "metadata": {
      "needs_background": "light"
     },
     "output_type": "display_data"
    }
   ],
   "source": [
    "plot_attribute('tempo', features)"
   ]
  },
  {
   "cell_type": "markdown",
   "metadata": {},
   "source": [
    "## Conclusion and Evaluation\n",
    "From our generated graphs we see apparent correlations between the various features: valence, danceability, energy, and the moods that the playlists supposedly emmulate. Moving forward, this demonstrates that we may be able to create synthetic data through simple linear regression techniques. Generally, we see that many of the curves present look logarithmic. Thus, may be represented using the general form: \n",
    "$$a\\cdot \\frac{\\log{x}}{\\log b} + c, \\qquad a, b, c \\in \\mathbb{R}.$$\n",
    "\n",
    "One limitation to such a regression is that it is also not a function of specified input length.\n",
    "\n",
    "Further EDA needs to be done on keyword clustering – currently, the various graphs for each projected curve is jagged, graphs and their respective data points can be averaged together based on the various starting keywords and ending keywords."
   ]
  },
  {
   "cell_type": "markdown",
   "metadata": {},
   "source": [
    "# Spotify Playlist Query Based on Audio Features\n",
    "In this section, we examine the efficacy of spotify queries based on Spotify extracted audio features. We start by going through each playlist querying the target feature based on the exact extracted audio feature. Then, we increase the testing range by using the min, max feature queries. The efficacy of each test is measured by whether or not the target track appears in the top 1, 5, 10, 20 returned results.\n",
    "\n",
    "The Spotify `recommendations` API endpoint has 3 required fields: `seed_artists`, `seed_genres`, `seed_tracks`. My understanding of these seeds are that they provide a reference point for Spotify to begin searching the space of possible song which match the other `recommendation` criterions."
   ]
  },
  {
   "cell_type": "code",
   "execution_count": 16,
   "metadata": {},
   "outputs": [],
   "source": [
    "# we start by getting the *fixed* genre recommendations from spotify\n",
    "# we probably want the user to choose this at the initialiation of the app.\n",
    "url = \"https://api.spotify.com/v1/recommendations/available-genre-seeds\"\n",
    "genres = requests.get(url, headers=headers).json()['genres']\n",
    "\n",
    "# we choose 3 random genres\n",
    "genres = 'acoustic,pop,indie'\n",
    "url = 'https://api.spotify.com/v1/recommendations'      \n",
    "ld = [v for v in labeled_data if len(labeled_data[v]) != 0]"
   ]
  },
  {
   "cell_type": "code",
   "execution_count": 17,
   "metadata": {},
   "outputs": [],
   "source": [
    "def get_recommendation(protuberance=0.):\n",
    "    # choose a playlist with non-zero features\n",
    "    ld = [v for v in labeled_data if len(labeled_data[v]) != 0]\n",
    "    ref = ld\n",
    "    iso = random.randint(0, len(ref))\n",
    "    removed = ref.pop(iso)\n",
    "    # get random track for search\n",
    "    i = random.randint(0, 9)\n",
    "    trackid = labeled_data[ref[iso]][i]\n",
    "    feature = features[ref[iso]][i]\n",
    "    feature.pop('id', None); feature.pop('type', None); feature.pop('uri', None)\n",
    "    feature.pop('track_href', None); feature.pop('analysis_url', None)\n",
    "    feature.pop('duration_ms', None)\n",
    "    # these three playlists\n",
    "    playlists = [random.randint(0, len(ld) - 1) for i in range(2)]\n",
    "\n",
    "    # get seed tracks\n",
    "    r_tracks = [labeled_data[ld[playlists[i]]][random.randint(0, 9)] \n",
    "                for i in range(1)]\n",
    "\n",
    "    # get artists from seed tracks and query\n",
    "    urls = [f'https://api.spotify.com/v1/tracks/{id}'\n",
    "            for id in r_tracks]\n",
    "    reqst = [requests.get(url, headers=headers).json() for url in urls]\n",
    "    artists = [r['album']['artists'][0]['id'] for r in reqst]\n",
    "\n",
    "    # make requests\n",
    "    params = {f'target_{k}': v + v * protuberance\n",
    "              for k, v in feature.items()}\n",
    "    # round integer fields -> \n",
    "    params['target_key'] = round(params['target_key'])\n",
    "    params['target_mode'] = round(params['target_mode'])\n",
    "    params['target_time_signature'] = round(params['target_time_signature'])\n",
    "    params['seed_artists'] = ','.join(artists)\n",
    "    params['seed_tracks'] = ','.join(r_tracks)\n",
    "    params['seed_genres'] = genres\n",
    "    reqst = requests.get(url, headers=headers, params=params)\n",
    "    reqst = reqst.json()\n",
    "    return get_track_name(trackid, reqst['tracks'][0]['id'])"
   ]
  },
  {
   "cell_type": "code",
   "execution_count": 18,
   "metadata": {},
   "outputs": [],
   "source": [
    "def get_track_name(id1, id2):\n",
    "    params = {'ids': ','.join([id1, id2])}\n",
    "    req = requests.get('https://api.spotify.com/v1/tracks', \n",
    "                       headers=headers, params=params).json()\n",
    "    return ((req['tracks'][0]['name'], req['tracks'][0]['artists'][0]['name']), \n",
    "           (req['tracks'][1]['name'], req['tracks'][1]['artists'][0]['name']))"
   ]
  },
  {
   "cell_type": "markdown",
   "metadata": {},
   "source": [
    "## Exact Feature Query (+0%)\n",
    "\n",
    "We search / get recommendations based on all of the features returned by Spotify's audio analysis. Here, just to gauge the accuracy of Spotify's recommendation system, we query with the exact audio features and then slowly increase the level of uncertainty. We note that in all of the proceeding experiments, the first tuple in the returned two dimensional tuple is the song that is used for querying, the second tuple in the returned two dimensional tuple is the song that was returned as a result of querying."
   ]
  },
  {
   "cell_type": "code",
   "execution_count": 19,
   "metadata": {},
   "outputs": [
    {
     "data": {
      "text/plain": [
       "(('3a1vk5zuTpm3Z2K9bJM7kg', 'Ambrose Akinmusire'),\n",
       " ('5k7VKj1Xwy5DjO4B0PdAOb', 'Radiohead'))"
      ]
     },
     "execution_count": 19,
     "metadata": {},
     "output_type": "execute_result"
    }
   ],
   "source": [
    "get_recommendation()"
   ]
  },
  {
   "cell_type": "code",
   "execution_count": 148,
   "metadata": {},
   "outputs": [
    {
     "data": {
      "text/plain": [
       "(('Honest', 'JOSEPH'), ('Breakeven', 'Kurt Hugo Schneider'))"
      ]
     },
     "execution_count": 148,
     "metadata": {},
     "output_type": "execute_result"
    }
   ],
   "source": [
    "get_recommendation()"
   ]
  },
  {
   "cell_type": "code",
   "execution_count": 149,
   "metadata": {},
   "outputs": [
    {
     "data": {
      "text/plain": [
       "(('Circles', 'Post Malone'), ('Bonfire Heart', 'James Blunt'))"
      ]
     },
     "execution_count": 149,
     "metadata": {},
     "output_type": "execute_result"
    }
   ],
   "source": [
    "get_recommendation()"
   ]
  },
  {
   "cell_type": "code",
   "execution_count": 150,
   "metadata": {},
   "outputs": [
    {
     "data": {
      "text/plain": [
       "(('Island Feeling', 'Dave Holland'), ('Heart Skipped a Beat', 'The xx'))"
      ]
     },
     "execution_count": 150,
     "metadata": {},
     "output_type": "execute_result"
    }
   ],
   "source": [
    "get_recommendation()"
   ]
  },
  {
   "cell_type": "code",
   "execution_count": 152,
   "metadata": {},
   "outputs": [
    {
     "data": {
      "text/plain": [
       "(('Anxiety (with Selena Gomez)', 'Julia Michaels'),\n",
       " ('Down the Line', 'Beach Fossils'))"
      ]
     },
     "execution_count": 152,
     "metadata": {},
     "output_type": "execute_result"
    }
   ],
   "source": [
    "get_recommendation()"
   ]
  },
  {
   "cell_type": "markdown",
   "metadata": {},
   "source": [
    "## Approximate Feature Query (+3%)"
   ]
  },
  {
   "cell_type": "code",
   "execution_count": 153,
   "metadata": {
    "scrolled": false
   },
   "outputs": [
    {
     "data": {
      "text/plain": [
       "(('A Lovely Night', 'Ryan Gosling'), ('What Other People Say', 'Sam Fischer'))"
      ]
     },
     "execution_count": 153,
     "metadata": {},
     "output_type": "execute_result"
    }
   ],
   "source": [
    "get_recommendation(protuberance=0.03)"
   ]
  },
  {
   "cell_type": "code",
   "execution_count": 154,
   "metadata": {},
   "outputs": [
    {
     "data": {
      "text/plain": [
       "(('Feel The Need', 'Eryn Allen Kane'), ('good 4 u', 'Olivia Rodrigo'))"
      ]
     },
     "execution_count": 154,
     "metadata": {},
     "output_type": "execute_result"
    }
   ],
   "source": [
    "get_recommendation(protuberance=0.03)"
   ]
  },
  {
   "cell_type": "code",
   "execution_count": 155,
   "metadata": {},
   "outputs": [
    {
     "data": {
      "text/plain": [
       "(('All of Us', 'Pat Metheny/Ornette Coleman'), ('That Easy', 'Yellow Days'))"
      ]
     },
     "execution_count": 155,
     "metadata": {},
     "output_type": "execute_result"
    }
   ],
   "source": [
    "get_recommendation(protuberance=0.03)"
   ]
  },
  {
   "cell_type": "code",
   "execution_count": 156,
   "metadata": {},
   "outputs": [
    {
     "data": {
      "text/plain": [
       "(('Brave', 'Sara Bareilles'), ('All Around The World', 'Justin Bieber'))"
      ]
     },
     "execution_count": 156,
     "metadata": {},
     "output_type": "execute_result"
    }
   ],
   "source": [
    "get_recommendation(protuberance=0.03)"
   ]
  },
  {
   "cell_type": "code",
   "execution_count": 157,
   "metadata": {},
   "outputs": [
    {
     "data": {
      "text/plain": [
       "(('Strawberry Swing', 'Coldplay'),\n",
       " ('Good Life (with G-Eazy & Kehlani)', 'G-Eazy'))"
      ]
     },
     "execution_count": 157,
     "metadata": {},
     "output_type": "execute_result"
    }
   ],
   "source": [
    "get_recommendation(protuberance=0.03)"
   ]
  },
  {
   "cell_type": "markdown",
   "metadata": {},
   "source": [
    "## Approximate Feature Query (+5%)"
   ]
  },
  {
   "cell_type": "code",
   "execution_count": 159,
   "metadata": {},
   "outputs": [
    {
     "data": {
      "text/plain": [
       "((\"Let's Fall in Love for the Night\", 'FINNEAS'), ('Drive', 'Oh Wonder'))"
      ]
     },
     "execution_count": 159,
     "metadata": {},
     "output_type": "execute_result"
    }
   ],
   "source": [
    "get_recommendation(protuberance=0.05)"
   ]
  },
  {
   "cell_type": "code",
   "execution_count": 160,
   "metadata": {},
   "outputs": [
    {
     "data": {
      "text/plain": [
       "(('Glory of Music', 'The Head And The Heart'),\n",
       " ('Hey There Delilah', \"Plain White T's\"))"
      ]
     },
     "execution_count": 160,
     "metadata": {},
     "output_type": "execute_result"
    }
   ],
   "source": [
    "get_recommendation(protuberance=0.05)"
   ]
  },
  {
   "cell_type": "code",
   "execution_count": 161,
   "metadata": {},
   "outputs": [
    {
     "data": {
      "text/plain": [
       "((\"(What's So Funny 'Bout) Peace, Love and Understanding?\",\n",
       "  'Sharon Van Etten'),\n",
       " ('Hold Me', 'The Sweeplings'))"
      ]
     },
     "execution_count": 161,
     "metadata": {},
     "output_type": "execute_result"
    }
   ],
   "source": [
    "get_recommendation(protuberance=0.05)"
   ]
  },
  {
   "cell_type": "code",
   "execution_count": 162,
   "metadata": {},
   "outputs": [
    {
     "data": {
      "text/plain": [
       "(('Good Day', 'Surfaces'), ('Islands', 'The xx'))"
      ]
     },
     "execution_count": 162,
     "metadata": {},
     "output_type": "execute_result"
    }
   ],
   "source": [
    "get_recommendation(protuberance=0.05)"
   ]
  },
  {
   "cell_type": "code",
   "execution_count": 163,
   "metadata": {},
   "outputs": [
    {
     "data": {
      "text/plain": [
       "(('Mellomaniac - Chillout Mix', 'DJ Shah'),\n",
       " ('Pray For Me (with Kendrick Lamar)', 'The Weeknd'))"
      ]
     },
     "execution_count": 163,
     "metadata": {},
     "output_type": "execute_result"
    }
   ],
   "source": [
    "get_recommendation(protuberance=0.05)"
   ]
  },
  {
   "cell_type": "markdown",
   "metadata": {},
   "source": [
    "## Approximate Feature Query (+7%)"
   ]
  },
  {
   "cell_type": "code",
   "execution_count": 164,
   "metadata": {},
   "outputs": [
    {
     "data": {
      "text/plain": [
       "(('Fake', 'Lauv'), ('Saw You In A Dream', 'The Japanese House'))"
      ]
     },
     "execution_count": 164,
     "metadata": {},
     "output_type": "execute_result"
    }
   ],
   "source": [
    "get_recommendation(protuberance=0.07)"
   ]
  },
  {
   "cell_type": "code",
   "execution_count": 165,
   "metadata": {},
   "outputs": [
    {
     "data": {
      "text/plain": [
       "((\"I'll Get Along\", 'Michael Kiwanuka'), ('Sunflower Seeds', 'Bryce Vine'))"
      ]
     },
     "execution_count": 165,
     "metadata": {},
     "output_type": "execute_result"
    }
   ],
   "source": [
    "get_recommendation(protuberance=0.07)"
   ]
  },
  {
   "cell_type": "code",
   "execution_count": 166,
   "metadata": {},
   "outputs": [
    {
     "data": {
      "text/plain": [
       "(('Another Night on Mars', 'The Maine'), ('FRIENDS', 'LAUNDRY DAY'))"
      ]
     },
     "execution_count": 166,
     "metadata": {},
     "output_type": "execute_result"
    }
   ],
   "source": [
    "get_recommendation(protuberance=0.07)"
   ]
  },
  {
   "cell_type": "code",
   "execution_count": 167,
   "metadata": {},
   "outputs": [
    {
     "data": {
      "text/plain": [
       "(('Não Faz Sentido', 'MARO'), ('Teach You - Acoustic', 'Emily King'))"
      ]
     },
     "execution_count": 167,
     "metadata": {},
     "output_type": "execute_result"
    }
   ],
   "source": [
    "get_recommendation(protuberance=0.07)"
   ]
  },
  {
   "cell_type": "code",
   "execution_count": 168,
   "metadata": {},
   "outputs": [
    {
     "data": {
      "text/plain": [
       "(('Parachute', 'Ingrid Michaelson'),\n",
       " (\"There's No Business Like Show Business\", 'Ethel Merman'))"
      ]
     },
     "execution_count": 168,
     "metadata": {},
     "output_type": "execute_result"
    }
   ],
   "source": [
    "get_recommendation(protuberance=0.07)"
   ]
  },
  {
   "cell_type": "markdown",
   "metadata": {},
   "source": [
    "## Approximate Feature Query (+10%)"
   ]
  },
  {
   "cell_type": "code",
   "execution_count": 169,
   "metadata": {},
   "outputs": [
    {
     "data": {
      "text/plain": [
       "(('Holy (feat. Chance The Rapper)', 'Justin Bieber'),\n",
       " ('Got It In You', 'BANNERS'))"
      ]
     },
     "execution_count": 169,
     "metadata": {},
     "output_type": "execute_result"
    }
   ],
   "source": [
    "get_recommendation(protuberance=0.1)"
   ]
  },
  {
   "cell_type": "code",
   "execution_count": 170,
   "metadata": {},
   "outputs": [
    {
     "data": {
      "text/plain": [
       "(('Better Now', 'Post Malone'),\n",
       " (\"You're the Inspiration - 2006 Remaster\", 'Chicago'))"
      ]
     },
     "execution_count": 170,
     "metadata": {},
     "output_type": "execute_result"
    }
   ],
   "source": [
    "get_recommendation(protuberance=0.1)"
   ]
  },
  {
   "cell_type": "code",
   "execution_count": 171,
   "metadata": {},
   "outputs": [
    {
     "data": {
      "text/plain": [
       "(('Lonesome', 'Kina Grannis'), ('Lose Somebody', 'Kygo'))"
      ]
     },
     "execution_count": 171,
     "metadata": {},
     "output_type": "execute_result"
    }
   ],
   "source": [
    "get_recommendation(protuberance=0.1)"
   ]
  },
  {
   "cell_type": "code",
   "execution_count": 172,
   "metadata": {},
   "outputs": [
    {
     "data": {
      "text/plain": [
       "(('Shake It Off', 'Taylor Swift'), ('Daft Pretty Boys', 'Bad Suns'))"
      ]
     },
     "execution_count": 172,
     "metadata": {},
     "output_type": "execute_result"
    }
   ],
   "source": [
    "get_recommendation(protuberance=0.1)"
   ]
  },
  {
   "cell_type": "code",
   "execution_count": 173,
   "metadata": {},
   "outputs": [
    {
     "data": {
      "text/plain": [
       "(('I Can Change', 'Lake Street Dive'), ('You and I', 'Ingrid Michaelson'))"
      ]
     },
     "execution_count": 173,
     "metadata": {},
     "output_type": "execute_result"
    }
   ],
   "source": [
    "get_recommendation(protuberance=0.1)"
   ]
  },
  {
   "cell_type": "markdown",
   "metadata": {},
   "source": [
    "## Approximate Feature Query (+12%)"
   ]
  },
  {
   "cell_type": "code",
   "execution_count": 174,
   "metadata": {},
   "outputs": [
    {
     "data": {
      "text/plain": [
       "(('You Make My Dreams (Come True)', 'Daryl Hall & John Oates'),\n",
       " ('Punto G', 'KAROL G'))"
      ]
     },
     "execution_count": 174,
     "metadata": {},
     "output_type": "execute_result"
    }
   ],
   "source": [
    "get_recommendation(protuberance=0.12)"
   ]
  },
  {
   "cell_type": "code",
   "execution_count": 177,
   "metadata": {},
   "outputs": [
    {
     "data": {
      "text/plain": [
       "(('Skinny Love', 'Birdy'), ('Someone Like You', 'Adele'))"
      ]
     },
     "execution_count": 177,
     "metadata": {},
     "output_type": "execute_result"
    }
   ],
   "source": [
    "get_recommendation(protuberance=0.12)"
   ]
  },
  {
   "cell_type": "code",
   "execution_count": 176,
   "metadata": {},
   "outputs": [
    {
     "data": {
      "text/plain": [
       "((\"Things Won't Go My Way\", 'Peach Tree Rascals'), ('talk', 'keshi'))"
      ]
     },
     "execution_count": 176,
     "metadata": {},
     "output_type": "execute_result"
    }
   ],
   "source": [
    "get_recommendation(protuberance=0.12)"
   ]
  },
  {
   "cell_type": "code",
   "execution_count": 178,
   "metadata": {},
   "outputs": [
    {
     "data": {
      "text/plain": [
       "(('Time To Rest Your Weary Head', 'Jacob Collier'),\n",
       " ('Become the Warm Jets', 'Current Joys'))"
      ]
     },
     "execution_count": 178,
     "metadata": {},
     "output_type": "execute_result"
    }
   ],
   "source": [
    "get_recommendation(protuberance=0.12)"
   ]
  },
  {
   "cell_type": "code",
   "execution_count": 179,
   "metadata": {},
   "outputs": [
    {
     "data": {
      "text/plain": [
       "(('Some Nights', 'fun.'), ('Conscious Club', 'Vulfpeck'))"
      ]
     },
     "execution_count": 179,
     "metadata": {},
     "output_type": "execute_result"
    }
   ],
   "source": [
    "get_recommendation(protuberance=0.12)"
   ]
  },
  {
   "cell_type": "markdown",
   "metadata": {},
   "source": [
    "## Approximate Feature Query (+15%)"
   ]
  },
  {
   "cell_type": "code",
   "execution_count": 180,
   "metadata": {},
   "outputs": [
    {
     "data": {
      "text/plain": [
       "(('Fake', 'Lauv'), ('Crash My Car', 'COIN'))"
      ]
     },
     "execution_count": 180,
     "metadata": {},
     "output_type": "execute_result"
    }
   ],
   "source": [
    "get_recommendation(protuberance=0.15)"
   ]
  },
  {
   "cell_type": "code",
   "execution_count": 181,
   "metadata": {},
   "outputs": [
    {
     "data": {
      "text/plain": [
       "(('Here Comes the Sun', 'Imaginary Future'),\n",
       " ('Here Comes the Sun', 'Imaginary Future'))"
      ]
     },
     "execution_count": 181,
     "metadata": {},
     "output_type": "execute_result"
    }
   ],
   "source": [
    "get_recommendation(protuberance=0.15)"
   ]
  },
  {
   "cell_type": "code",
   "execution_count": 182,
   "metadata": {},
   "outputs": [
    {
     "data": {
      "text/plain": [
       "(('Light On', 'Maggie Rogers'),\n",
       " ('San Andreas End Credits', 'Andrew Lockington'))"
      ]
     },
     "execution_count": 182,
     "metadata": {},
     "output_type": "execute_result"
    }
   ],
   "source": [
    "get_recommendation(protuberance=0.15)"
   ]
  },
  {
   "cell_type": "code",
   "execution_count": 183,
   "metadata": {},
   "outputs": [
    {
     "data": {
      "text/plain": [
       "(('Tattoos Together', 'Lauv'), ('Free', 'Donavon Frankenreiter'))"
      ]
     },
     "execution_count": 183,
     "metadata": {},
     "output_type": "execute_result"
    }
   ],
   "source": [
    "get_recommendation(protuberance=0.15)"
   ]
  },
  {
   "cell_type": "code",
   "execution_count": 185,
   "metadata": {},
   "outputs": [
    {
     "data": {
      "text/plain": [
       "(('End Of The Day', 'Beck'), ('11 Hours - Branchez Remix', 'Wet'))"
      ]
     },
     "execution_count": 185,
     "metadata": {},
     "output_type": "execute_result"
    }
   ],
   "source": [
    "get_recommendation(protuberance=0.15)"
   ]
  },
  {
   "cell_type": "markdown",
   "metadata": {},
   "source": [
    "## Approximate Feature Query (+20%)"
   ]
  },
  {
   "cell_type": "code",
   "execution_count": 188,
   "metadata": {},
   "outputs": [
    {
     "data": {
      "text/plain": [
       "(('In Too Deep (feat. Kiana Ledé)', 'Jacob Collier'),\n",
       " (\"Naïve - BBC Radio 1's Jo Whiley's Live Lounge\", 'Lily Allen'))"
      ]
     },
     "execution_count": 188,
     "metadata": {},
     "output_type": "execute_result"
    }
   ],
   "source": [
    "get_recommendation(protuberance=0.20)"
   ]
  },
  {
   "cell_type": "code",
   "execution_count": 187,
   "metadata": {},
   "outputs": [
    {
     "data": {
      "text/plain": [
       "(('Riverside', 'Agnes Obel'), (\"Body Ain't Me\", 'Pink Sweat$'))"
      ]
     },
     "execution_count": 187,
     "metadata": {},
     "output_type": "execute_result"
    }
   ],
   "source": [
    "get_recommendation(protuberance=0.20)"
   ]
  },
  {
   "cell_type": "code",
   "execution_count": 189,
   "metadata": {},
   "outputs": [
    {
     "data": {
      "text/plain": [
       "(('Na Na Na', 'Pentatonix'), ('1999 WILDFIRE', 'BROCKHAMPTON'))"
      ]
     },
     "execution_count": 189,
     "metadata": {},
     "output_type": "execute_result"
    }
   ],
   "source": [
    "get_recommendation(protuberance=0.20)"
   ]
  },
  {
   "cell_type": "code",
   "execution_count": 190,
   "metadata": {},
   "outputs": [
    {
     "data": {
      "text/plain": [
       "(('My Silver Lining', 'First Aid Kit'),\n",
       " ('Just to Satisfy You', 'Paula Nelson'))"
      ]
     },
     "execution_count": 190,
     "metadata": {},
     "output_type": "execute_result"
    }
   ],
   "source": [
    "get_recommendation(protuberance=0.20)"
   ]
  },
  {
   "cell_type": "code",
   "execution_count": 192,
   "metadata": {},
   "outputs": [
    {
     "data": {
      "text/plain": [
       "(('Tattoos Together', 'Lauv'), ('1999 WILDFIRE', 'BROCKHAMPTON'))"
      ]
     },
     "execution_count": 192,
     "metadata": {},
     "output_type": "execute_result"
    }
   ],
   "source": [
    "get_recommendation(protuberance=0.20)"
   ]
  }
 ],
 "metadata": {
  "kernelspec": {
   "display_name": "Python 3",
   "language": "python",
   "name": "python3"
  },
  "language_info": {
   "codemirror_mode": {
    "name": "ipython",
    "version": 3
   },
   "file_extension": ".py",
   "mimetype": "text/x-python",
   "name": "python",
   "nbconvert_exporter": "python",
   "pygments_lexer": "ipython3",
   "version": "3.7.4"
  }
 },
 "nbformat": 4,
 "nbformat_minor": 4
}
