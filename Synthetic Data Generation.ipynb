{
 "cells": [
  {
   "cell_type": "markdown",
   "metadata": {},
   "source": [
    "# Synthetic Data Generation"
   ]
  },
  {
   "cell_type": "code",
   "execution_count": 17,
   "metadata": {},
   "outputs": [],
   "source": [
    "import math\n",
    "import numpy as np\n",
    "import pandas as pd\n",
    "import matplotlib.pyplot as plt"
   ]
  },
  {
   "cell_type": "code",
   "execution_count": 12,
   "metadata": {},
   "outputs": [],
   "source": [
    "grouped = pd.read_excel('data/grouped_moods.xlsx', sheet_name='Landmark Songs')\n",
    "\n",
    "def filter_group(id):\n",
    "    return lambda x: id in map(int, x.split(', '))"
   ]
  },
  {
   "cell_type": "markdown",
   "metadata": {},
   "source": [
    "# Group Analysis"
   ]
  },
  {
   "cell_type": "code",
   "execution_count": 39,
   "metadata": {},
   "outputs": [
    {
     "name": "stdout",
     "output_type": "stream",
     "text": [
      "----- Values for Group 1 -----\n",
      "Acousticness: 0.187 ± 0.189\n",
      "Danceability: 0.717 ± 0.133\n",
      "Energy: 0.677 ± 0.137\n",
      "Loudness: -5.736 ± 2.079\n",
      "Speechiness: 0.119 ± 0.107\n",
      "Valence: 0.552 ± 0.203\n",
      "Key: 5.442 ± 3.5\n",
      "Mode: 0.512 ± 0.506\n",
      "[0.793, 0.837, 0.653, 0.732, 0.674, 0.547, 0.615, 0.508, 0.764, 0.661, 0.731, 0.576, 0.693, 0.631, 0.822, 0.34, 0.72, 0.733, 0.623, 0.723, 0.552, 0.793, 0.582, 0.507, 0.869, 0.389, 0.832, 0.741, 0.544, 0.856, 0.769, 0.645, 0.621, 0.594, 0.912, 0.824, 0.843, 0.658, 0.88, 0.676, 0.615, 0.672, 0.377]\n"
     ]
    }
   ],
   "source": [
    "features = ['Acousticness', 'Danceability', 'Energy', 'Loudness', 'Speechiness', 'Valence', 'Key', 'Mode']\n",
    "for i in range(1, 11):\n",
    "    fil = grouped[grouped['Group(s)'].apply(filter_group(i))]\n",
    "    stdev = fil.std()\n",
    "    mean = fil.mean()\n",
    "    print(f'----- Values for Group {i} -----')\n",
    "    for index, entry in enumerate(mean):\n",
    "        print(f'{features[index]}: {round(entry,3)} ± {round(stdev[index],3)}')\n",
    "    print(fil.Energy.tolist())\n",
    "    break\n",
    "#     means, stdev = fil.mean(), fil.std()\n",
    "#     fig, ax = plt.subplots()\n",
    "#     fig.set_figwidth(15)\n",
    "#     fig.set_figheight(10)\n",
    "#     ax.bar(np.arange(len(features)), means.tolist(), yerr=stdev.tolist(), align='center', alpha=0.5, ecolor='black', capsize=10)\n",
    "#     ax.set_ylabel('Feature Mean Values')\n",
    "#     ax.set_xticks(np.arange(len(features)))\n",
    "#     ax.set_xticklabels(features)\n",
    "#     ax.set_title(f'Audio Feature Aggregate of Group {i}')\n",
    "#     ax.yaxis.grid(True)\n",
    "\n",
    "#     # Save the figure and show\n",
    "#     plt.tight_layout()\n",
    "#     plt.show()"
   ]
  },
  {
   "cell_type": "code",
   "execution_count": null,
   "metadata": {},
   "outputs": [],
   "source": []
  }
 ],
 "metadata": {
  "kernelspec": {
   "display_name": "Python 3",
   "language": "python",
   "name": "python3"
  },
  "language_info": {
   "codemirror_mode": {
    "name": "ipython",
    "version": 3
   },
   "file_extension": ".py",
   "mimetype": "text/x-python",
   "name": "python",
   "nbconvert_exporter": "python",
   "pygments_lexer": "ipython3",
   "version": "3.7.4"
  }
 },
 "nbformat": 4,
 "nbformat_minor": 2
}
